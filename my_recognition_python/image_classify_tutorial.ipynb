{
 "cells": [
  {
   "cell_type": "markdown",
   "metadata": {},
   "source": [
    "# 画像認識チュートリアル"
   ]
  },
  {
   "cell_type": "markdown",
   "metadata": {},
   "source": [
    "## モジュールのインポート\n",
    "\n",
    "推論と画像の読み込みに使うモジュール"
   ]
  },
  {
   "cell_type": "code",
   "execution_count": 1,
   "metadata": {},
   "outputs": [
    {
     "name": "stdout",
     "output_type": "stream",
     "text": [
      "jetson.inference.__init__.py\n",
      "jetson.utils.__init__.py\n"
     ]
    }
   ],
   "source": [
    "import jetson.inference\n",
    "import jetson.utils"
   ]
  },
  {
   "cell_type": "code",
   "execution_count": 7,
   "metadata": {},
   "outputs": [],
   "source": [
    "filename = \"./black_bear.jpg\"\n",
    "network = \"googlenet\""
   ]
  },
  {
   "cell_type": "markdown",
   "metadata": {},
   "source": [
    "## 画像読み込み\n",
    "\n",
    "`loadImageRGBA()`関数を使うことでGPUメモリに画像をロードできる\n",
    "（ロードされた画像はCPUとGPU両方にマップされている共有メモリに保存される）"
   ]
  },
  {
   "cell_type": "code",
   "execution_count": 3,
   "metadata": {},
   "outputs": [],
   "source": [
    "img, width, height = jetson.utils.loadImageRGBA(filename)"
   ]
  },
  {
   "cell_type": "markdown",
   "metadata": {},
   "source": [
    "## 画像認識ネットワークの読み込み\n",
    "\n",
    "`imageNet`オブジェクトを使って`TensorRT`で分類モデルを読み込む"
   ]
  },
  {
   "cell_type": "code",
   "execution_count": 8,
   "metadata": {},
   "outputs": [],
   "source": [
    "net = jetson.inference.imageNet(network)"
   ]
  },
  {
   "cell_type": "markdown",
   "metadata": {},
   "source": [
    "## 画像の分類\n",
    "\n",
    "`TensorRT`で推論を実行\n",
    "認識されたオブジェクトクラスの整数インデックスと信頼値が返ってくる"
   ]
  },
  {
   "cell_type": "code",
   "execution_count": 9,
   "metadata": {},
   "outputs": [],
   "source": [
    "class_idx, confidence = net.Classify(img, width, height)"
   ]
  },
  {
   "cell_type": "markdown",
   "metadata": {},
   "source": [
    "## 結果の解釈\n",
    "\n",
    "クラスの説明を取得して、分類の結果を出力"
   ]
  },
  {
   "cell_type": "code",
   "execution_count": 11,
   "metadata": {},
   "outputs": [
    {
     "name": "stdout",
     "output_type": "stream",
     "text": [
      "image is recognized as 'American black bear, black bear, Ursus americanus, Euarctos americanus' (class #295) with 98.946649% confidence\n"
     ]
    }
   ],
   "source": [
    "class_desc = net.GetClassDesc(class_idx)\n",
    "print(\"image is recognized as '{:s}' (class #{:d}) with {:f}% confidence\".format(class_desc, class_idx, confidence * 100))"
   ]
  },
  {
   "cell_type": "markdown",
   "metadata": {},
   "source": [
    "![black bear](./black_bear.jpg)"
   ]
  },
  {
   "cell_type": "markdown",
   "metadata": {},
   "source": [
    "## 参考\n",
    "[Coding Your Own Image Recognition Program (Python)](https://github.com/dusty-nv/jetson-inference/blob/master/docs/imagenet-example-python-2.md)"
   ]
  }
 ],
 "metadata": {
  "kernelspec": {
   "display_name": "Python 3",
   "language": "python",
   "name": "python3"
  },
  "language_info": {
   "codemirror_mode": {
    "name": "ipython",
    "version": 3
   },
   "file_extension": ".py",
   "mimetype": "text/x-python",
   "name": "python",
   "nbconvert_exporter": "python",
   "pygments_lexer": "ipython3",
   "version": "3.6.9"
  }
 },
 "nbformat": 4,
 "nbformat_minor": 4
}
